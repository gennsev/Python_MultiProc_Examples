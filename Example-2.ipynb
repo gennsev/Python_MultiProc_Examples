{
 "cells": [
  {
   "cell_type": "markdown",
   "metadata": {},
   "source": [
    "# Python Multithreading vs Multiprocessing Pt2\n",
    "## An example for Data Scientist (NLP)\n",
    "## A Text Classifier\n",
    "\n",
    "This notebook presents how Python multiprocessing and multithreading can accelerate a simple NLP project.\n",
    "The project consists of a text classifier using a random forest model.\n",
    "\n",
    "If you are here just to see how multiprocessing and multithreading can be used in a real project, just follow along, you don't really need to know anything about Natural Language Processing to understand this example.\n",
    "\n",
    "If you get interested by the subject, you should start by studying what [word vectors](https://en.wikipedia.org/wiki/Word_embedding) are. I like [this article](https://medium.com/@jayeshbahire/introduction-to-word-vectors-ea1d4e4b84bf).\n"
   ]
  },
  {
   "cell_type": "code",
   "execution_count": 16,
   "metadata": {},
   "outputs": [],
   "source": [
    "import os\n",
    "import io\n",
    "import sys\n",
    "import time\n",
    "import zipfile\n",
    "import numpy as np\n",
    "import pandas as pd\n",
    "import matplotlib.pyplot as plt\n",
    "\n",
    "from concurrent.futures import ThreadPoolExecutor, as_completed, wait\n",
    "from sklearn.ensemble import RandomForestClassifier\n",
    "\n",
    "# used for multithread file processing\n",
    "def process_vector(line, wordVec_dict, embedding, idx2word):\n",
    "    values = line.split()\n",
    "    word = values[0]\n",
    "    vec = np.asarray(values[1:], dtype='float32')\n",
    "    wordVec_dict[word] = vec\n",
    "    embedding.append(vec)\n",
    "    idx2word.append(word)\n",
    "\n",
    "class GloveVectorizer:\n",
    "    def __init__(self, multithread=False, workers=10):\n",
    "    # load in pre-trained word vectors\n",
    "    # which is just a space-separated text file in the format:\n",
    "    # word vec[0] vec[1] vec[2] ...\n",
    "        print('Loading word vectors...')\n",
    "        wordVec_dict = {}\n",
    "        embedding = []\n",
    "        idx2word = []\n",
    "    \n",
    "        time_init = time.time()\n",
    "        if multithread:\n",
    "            executor = ThreadPoolExecutor(max_workers=workers)\n",
    "            futures = []\n",
    "            with zipfile.ZipFile('data/glove.6B.50d.txt.zip') as zf:\n",
    "                with io.TextIOWrapper(zf.open('glove.6B.50d.txt'), encoding='utf-8', errors='ignore') as f:\n",
    "                    for line in f:\n",
    "                        futures.append(executor.submit(process_vector, line, wordVec_dict, embedding, idx2word))\n",
    "            for future in as_completed(futures):\n",
    "                pass\n",
    "        else:   \n",
    "            with zipfile.ZipFile('data/glove.6B.50d.txt.zip') as zf:\n",
    "                with io.TextIOWrapper(zf.open('glove.6B.50d.txt'), encoding='utf-8', errors='ignore') as f:\n",
    "                    for line in f:\n",
    "                        values = line.split()\n",
    "                        word = values[0]\n",
    "                        vec = np.asarray(values[1:], dtype='float32')\n",
    "                        wordVec_dict[word] = vec\n",
    "                        embedding.append(vec)\n",
    "                        idx2word.append(word)\n",
    "            \n",
    "        time_end = time.time()\n",
    "        print(f'Found {len(wordVec_dict)} word vectors in {time_end - time_init}s.')\n",
    "\n",
    "        self.wordVec_dict = wordVec_dict\n",
    "        self.embedding = np.array(embedding)\n",
    "        self.word2idx = {v:k for k,v in enumerate(idx2word)}\n",
    "        self.V, self.D = self.embedding.shape\n",
    "\n",
    "\n",
    "    def transform(self, data):\n",
    "        X = np.zeros((len(data), self.D))\n",
    "        n = 0\n",
    "        emptycount = 0\n",
    "        for sentence in data:\n",
    "            tokens = sentence.lower().split()\n",
    "            vecs = []\n",
    "            for word in tokens:\n",
    "                if word in self.wordVec_dict:\n",
    "                    vec = self.wordVec_dict[word]\n",
    "                    vecs.append(vec)\n",
    "            if len(vecs) > 0:\n",
    "                vecs = np.array(vecs)\n",
    "                X[n] = vecs.mean(axis=0)\n",
    "            else:\n",
    "                emptycount += 1\n",
    "            n += 1\n",
    "        print(\"Numer of samples with no words found: %s / %s\" % (emptycount, len(data)))\n",
    "        return X\n"
   ]
  },
  {
   "cell_type": "markdown",
   "metadata": {},
   "source": [
    "# Hands-on\n",
    "\n",
    "We will train a text classificator with `scikit-learn` using data provided from Reuters.\n",
    "The data consists of news texts classified into 8 different labels ([Source](https://www.cs.umb.edu/~smimarog/textmining/datasets/))."
   ]
  },
  {
   "cell_type": "markdown",
   "metadata": {},
   "source": [
    "### GloVe Vectorizing\n",
    "\n",
    "We will use a pre-trained set of [GloVe](https://nlp.stanford.edu/projects/glove/) word vectors.\n",
    "\n",
    "That's where we can profit from using `multithreading`.\n",
    "Loading this pre-trained word vector file can take a lot of time. The file is considerably big, and we have to process it line per line. Each line contains a word and then a list of values for each dimension of its word vector."
   ]
  },
  {
   "cell_type": "markdown",
   "metadata": {},
   "source": [
    "The GloveVectorizer object loads the pre-trained file.\n",
    "Let's start by creating with no `multithreading`:"
   ]
  },
  {
   "cell_type": "code",
   "execution_count": null,
   "metadata": {},
   "outputs": [
    {
     "name": "stdout",
     "output_type": "stream",
     "text": [
      "Loading word vectors...\n"
     ]
    }
   ],
   "source": [
    "vectorizer = GloveVectorizer()"
   ]
  },
  {
   "cell_type": "markdown",
   "metadata": {},
   "source": [
    "That too some time. In a MacBook Air 2019 this was the output from that last cell:\n",
    "```\n",
    "Loading word vectors...\n",
    "Found 400000 word vectors in 269.19898986816406s.\n",
    "```\n",
    "Now let's see how much time it takes if we use multithreading (check the `__init__` class code if you are interested in how I've implemented it)."
   ]
  },
  {
   "cell_type": "code",
   "execution_count": 17,
   "metadata": {},
   "outputs": [
    {
     "name": "stdout",
     "output_type": "stream",
     "text": [
      "Loading word vectors...\n",
      "Found 400000 word vectors in 27.559515953063965s.\n"
     ]
    }
   ],
   "source": [
    "vectorizer = GloveVectorizer(multithread=True)"
   ]
  },
  {
   "cell_type": "markdown",
   "metadata": {},
   "source": [
    "Wow. Much faster, right?\n",
    "In a MacBook Air 2019 this was the output from multithreaded execution:\n",
    "```\n",
    "Loading word vectors...\n",
    "Found 400000 word vectors in 27.559515953063965s.\n",
    "```\n",
    "\n",
    "Notice that in this case we could make good use of `multithreading` because the code takes great advantage of async execution."
   ]
  },
  {
   "cell_type": "markdown",
   "metadata": {},
   "source": [
    "### Model training and testing"
   ]
  },
  {
   "cell_type": "markdown",
   "metadata": {},
   "source": [
    "Start by loading the data into dataframes. No need to use multiprocessing nor multithreading here, as reading CSVs into pandas dataframes is stupid fast.\n",
    "\n",
    "Then we vectorize the train and test data."
   ]
  },
  {
   "cell_type": "code",
   "execution_count": 20,
   "metadata": {},
   "outputs": [
    {
     "name": "stdout",
     "output_type": "stream",
     "text": [
      "Numer of samples with no words found: 0 / 5485\n",
      "Numer of samples with no words found: 0 / 2189\n"
     ]
    }
   ],
   "source": [
    "train = pd.read_csv('data/r8-train-all-terms.txt', header=None, sep='\\t')\n",
    "test = pd.read_csv('data/r8-test-all-terms.txt', header=None, sep='\\t')\n",
    "train.columns = ['label', 'content']\n",
    "test.columns = ['label', 'content']\n",
    "\n",
    "Xtrain = vectorizer.transform(train.content)\n",
    "Ytrain = train.label\n",
    "Xtest = vectorizer.transform(test.content)\n",
    "Ytest = test.label"
   ]
  },
  {
   "cell_type": "markdown",
   "metadata": {},
   "source": [
    "Now the cool part: training and testing.\n",
    "\n",
    "Luckly for us,`scikit-learn` offers `multiprocessing` nativelly, just by setting it up on the model's parameters.\n",
    "The following cell will train a same model with the same data using different number of jobs (jobs are mapped to processes in `scikit-learn`)."
   ]
  },
  {
   "cell_type": "code",
   "execution_count": 19,
   "metadata": {},
   "outputs": [
    {
     "name": "stdout",
     "output_type": "stream",
     "text": [
      "train score: 0.9992707383773929\n",
      "test score: 0.9346733668341709\n",
      "Serial training took 6.164580821990967s.\n",
      "Multiprocessing training with 2 processes took 3.465038776397705s.\n",
      "Multiprocessing training with 4 processes took 2.760185956954956s.\n",
      "Multiprocessing training with 8 processes took 2.872230291366577s.\n"
     ]
    },
    {
     "data": {
      "image/png": "[encoded data removed]",
      "text/plain": [
       "<Figure size 432x288 with 1 Axes>"
      ]
     },
     "metadata": {
      "needs_background": "light"
     },
     "output_type": "display_data"
    }
   ],
   "source": [
    "# create the model, train it, print scores\n",
    "times = []\n",
    "\n",
    "time_init = time.time()\n",
    "model = RandomForestClassifier(n_estimators=200)\n",
    "model.fit(Xtrain, Ytrain)\n",
    "print(\"train score:\", model.score(Xtrain, Ytrain))\n",
    "print(\"test score:\", model.score(Xtest, Ytest))\n",
    "time_end = time.time()\n",
    "times.append(float(time_end - time_init))\n",
    "print(f'Serial training took {time_end - time_init}s.')\n",
    "\n",
    "time_init = time.time()\n",
    "model = RandomForestClassifier(n_estimators=200, n_jobs=2)\n",
    "model.fit(Xtrain, Ytrain)\n",
    "time_end = time.time()\n",
    "times.append(float(time_end - time_init))\n",
    "print(f'Multiprocessing training with 2 processes took {time_end - time_init}s.')\n",
    "\n",
    "time_init = time.time()\n",
    "model = RandomForestClassifier(n_estimators=200, n_jobs=4)\n",
    "model.fit(Xtrain, Ytrain)\n",
    "time_end = time.time()\n",
    "times.append(float(time_end - time_init))\n",
    "print(f'Multiprocessing training with 4 processes took {time_end - time_init}s.')\n",
    "\n",
    "time_init = time.time()\n",
    "model = RandomForestClassifier(n_estimators=200, n_jobs=8)\n",
    "model.fit(Xtrain, Ytrain)\n",
    "time_end = time.time()\n",
    "times.append(float(time_end - time_init))\n",
    "print(f'Multiprocessing training with 8 processes took {time_end - time_init}s.')\n",
    "\n",
    "fig = plt.figure()\n",
    "ax = fig.add_axes([0,0,1,1])\n",
    "ax.set_xlabel('Number of Processes')\n",
    "ax.set_ylabel('Execution Time [s]')\n",
    "num_threads = ['Serial', '2', '4', '8']\n",
    "ax.bar(num_threads, times)\n",
    "plt.show()"
   ]
  },
  {
   "cell_type": "markdown",
   "metadata": {},
   "source": [
    "Well, the image and the timing data speaks by itself. Notice how the speedup stagnates once you reach the number of cores your machine has available (or, of course, a natural plateau)."
   ]
  },
  {
   "cell_type": "code",
   "execution_count": null,
   "metadata": {},
   "outputs": [],
   "source": []
  }
 ],
 "metadata": {
  "kernelspec": {
   "display_name": "Python 3",
   "language": "python",
   "name": "python3"
  },
  "language_info": {
   "codemirror_mode": {
    "name": "ipython",
    "version": 3
   },
   "file_extension": ".py",
   "mimetype": "text/x-python",
   "name": "python",
   "nbconvert_exporter": "python",
   "pygments_lexer": "ipython3",
   "version": "3.7.4"
  }
 },
 "nbformat": 4,
 "nbformat_minor": 2
}
